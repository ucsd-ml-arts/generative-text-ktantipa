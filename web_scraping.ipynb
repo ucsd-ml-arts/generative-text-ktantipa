{
 "cells": [
  {
   "cell_type": "code",
   "execution_count": 1,
   "metadata": {},
   "outputs": [],
   "source": [
    "from __future__ import absolute_import, division, print_function\n",
    "\n",
    "import tensorflow as tf\n",
    "tf.enable_eager_execution()\n",
    "\n",
    "import numpy as np\n",
    "import os\n",
    "import time\n",
    "from IPython.display import Image"
   ]
  },
  {
   "cell_type": "markdown",
   "metadata": {},
   "source": [
    "## Data Cleaning/Web Scraping\n",
    "This first part here is going to be the data cleaning process by using beautiful soup.\n",
    "\n",
    "First, I retrieve the contents on a page and examine them a bit.\n",
    "\n",
    "Make a variable called `link`, that stores the following URL (as a string):\n",
    "\n",
    "'https://archive.org/stream/GoosebumpsDeadHouse/GoosebumpsDeadHouse_djvu.txt' \n",
    "\n",
    "Now, to open the URL, I use `requests.get()` and provide `link` as its input. Store this in a variable called `page`.\n",
    "\n",
    "After that, make a variable called `soup` to parse the HTML using `BeautifulSoup`."
   ]
  },
  {
   "cell_type": "code",
   "execution_count": 2,
   "metadata": {},
   "outputs": [],
   "source": [
    "import requests\n",
    "import bs4\n",
    "from bs4 import BeautifulSoup\n",
    "from tika import parser\n",
    "import PyPDF2"
   ]
  },
  {
   "cell_type": "code",
   "execution_count": 3,
   "metadata": {},
   "outputs": [],
   "source": [
    "link = 'https://archive.org/stream/GoosebumpsDeadHouse/GoosebumpsDeadHouse_djvu.txt' #link for the book\n",
    "page = requests.get(link)\n",
    "soup = BeautifulSoup(page.content, 'html.parser')\n"
   ]
  },
  {
   "cell_type": "markdown",
   "metadata": {},
   "source": [
    "![image](Images/web_scraping.png)"
   ]
  },
  {
   "cell_type": "markdown",
   "metadata": {},
   "source": [
    "### Checking Scrape Contents\n",
    "\n",
    "Extract the text from the page and save it in a variable called `text_not_clean_1`. \n",
    "\n",
    "I extract it as a string.\n",
    "\n",
    "To do so, I have to use the soup object created in the above cell. "
   ]
  },
  {
   "cell_type": "code",
   "execution_count": 4,
   "metadata": {},
   "outputs": [],
   "source": [
    "text_not_clean_1 = soup.pre.string\n"
   ]
  },
  {
   "cell_type": "code",
   "execution_count": 5,
   "metadata": {},
   "outputs": [],
   "source": [
    "text_not_clean_2 = text_not_clean_1.replace('/n','')"
   ]
  },
  {
   "cell_type": "code",
   "execution_count": 6,
   "metadata": {},
   "outputs": [
    {
     "name": "stdout",
     "output_type": "stream",
     "text": [
      "1 \n",
      "\n",
      "\n",
      "\n",
      "Josh & I hated our new house. \n",
      "\n",
      "Sure, it was big. It looked like a mansion compared to our old house. It was a tall redbrick \n",
      "house with a sloping black roof & rows of windows framed by black shutters. \n",
      "\n",
      "It's so dark, I thought, studying it from the street. The whole house was covered in darkness, \n",
      "as if it were hiding in the shadows of the gnarled, old trees that bent over it. \n",
      "\n",
      "It was the middle of July, but dead brown leaves blanketed the front yard. Our sneakers \n",
      "crunched over them as we trudged up the gravel driveway. \n",
      "\n",
      "Tall weeds poked up everywhere through the dead leaves. Thick clumps of weeds had \n",
      "completely overgrown an old flower bed beside the front porch. \n",
      "\n",
      "This house is creepy, I thought unhappily. \n",
      "\n",
      "Josh must have been thinking the same thing. Looking up at the old house, we both groaned \n",
      "loudly. \n",
      "\n",
      "Mr. Dawes, the friendly young man from the local real estate office, stopped near the front \n",
      "walk & turned around. \n",
      "\n",
      "\"Everything okay?\" he asked, staring 1st at Josh, th\n"
     ]
    }
   ],
   "source": [
    "print(text_not_clean_2[:1000])"
   ]
  },
  {
   "cell_type": "markdown",
   "metadata": {},
   "source": [
    "Remove page numbers from text.\n",
    "\n",
    "Print the sample output."
   ]
  },
  {
   "cell_type": "code",
   "execution_count": 7,
   "metadata": {},
   "outputs": [
    {
     "name": "stdout",
     "output_type": "stream",
     "text": [
      " \n",
      "\n",
      "\n",
      "\n",
      "Josh & I hated our new house. \n",
      "\n",
      "Sure, it was big. It looked like a mansion compared to our old house. It was a tall redbrick \n",
      "house with a sloping black roof & rows of windows framed by black shutters. \n",
      "\n",
      "It's so dark, I thought, studying it from the street. The whole house was covered in darkness, \n",
      "as if it were hiding in the shadows of the gnarled, old trees that bent over it. \n",
      "\n",
      "It was the middle of July, but dead brown leaves blanketed the front yard. Our sneakers \n",
      "crunched over them as we trudged up the gravel driveway. \n",
      "\n",
      "Tall weeds poked up everywhere through the dead leaves. Thick clumps of weeds had \n",
      "completely overgrown an old flower bed beside the front porch. \n",
      "\n",
      "This house is creepy, I thought unhappily. \n",
      "\n",
      "Josh must have been thinking the same thing. Looking up at the old house, we both groaned \n",
      "loudly. \n",
      "\n",
      "Mr. Dawes, the friendly young man from the local real estate office, stopped near the front \n",
      "walk & turned around. \n",
      "\n",
      "\"Everything okay?\" he asked, staring st at Josh, then\n"
     ]
    }
   ],
   "source": [
    "text = ''.join([i for i in text_not_clean_2 if not i.isdigit()])\n",
    "print(text[:1000])"
   ]
  }
 ],
 "metadata": {
  "kernelspec": {
   "display_name": "Python 3",
   "language": "python",
   "name": "python3"
  },
  "language_info": {
   "codemirror_mode": {
    "name": "ipython",
    "version": 3
   },
   "file_extension": ".py",
   "mimetype": "text/x-python",
   "name": "python",
   "nbconvert_exporter": "python",
   "pygments_lexer": "ipython3",
   "version": "3.7.3"
  }
 },
 "nbformat": 4,
 "nbformat_minor": 2
}
